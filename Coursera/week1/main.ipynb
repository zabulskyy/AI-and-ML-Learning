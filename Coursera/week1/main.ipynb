{
 "cells": [
  {
   "cell_type": "code",
   "execution_count": 176,
   "metadata": {
    "collapsed": true
   },
   "outputs": [],
   "source": [
    "# y = 0.1x^3 + 0.5x^2 + 0x + 0.1\n",
    "import numpy as np\n",
    "from random import seed\n",
    "seed(1)"
   ]
  },
  {
   "cell_type": "code",
   "execution_count": 177,
   "metadata": {
    "collapsed": true
   },
   "outputs": [],
   "source": [
    "# function declaration\n",
    "def J(h_, y_, m):\n",
    "    return sum((sum(h_.T).T - y_) ** 2 / 2 / m)\n",
    "\n",
    "def learn(X_, h_, y_):\n",
    "    return np.dot(X_.T, (h_ - y_)) / X_.shape[0]\n",
    "\n",
    "def h_x(X_, w_):\n",
    "    return np.dot(X_, w_)\n",
    "\n",
    "def f(X_):\n",
    "    return .1 * X_ ** 3 + .5 * X_ ** 2 + 0 + .1"
   ]
  },
  {
   "cell_type": "code",
   "execution_count": 178,
   "metadata": {},
   "outputs": [
    {
     "data": {
      "text/plain": [
       "(array([1., 0., 0., 0., 0.]), 0.1)"
      ]
     },
     "execution_count": 178,
     "metadata": {},
     "output_type": "execute_result"
    }
   ],
   "source": [
    "# data\n",
    "X = np.array(list(range(0, 4)))\n",
    "y = f(X).T\n",
    "X = np.array([np.ones(X.size), X, X ** 2, X ** 3, X ** 4]).T\n",
    "X[0], y[0]"
   ]
  },
  {
   "cell_type": "code",
   "execution_count": 179,
   "metadata": {},
   "outputs": [
    {
     "name": "stdout",
     "output_type": "stream",
     "text": [
      "[-0.36896874  0.37300186  0.66925134 -0.96342344  0.50028862]\n[  -3.73814271  -10.2183541   -31.12410635  -96.13715095 -284.36327761]\n[  7959.14656337  22294.79640983  63935.53920675 186120.23134681\n 547210.63984846]\n[-1.53389566e+07 -4.29605683e+07 -1.23194584e+08 -3.58623058e+08\n -1.05436132e+09]\n[2.95550819e+10 8.27763574e+10 2.37371118e+11 6.90994271e+11\n 2.03154147e+12]\n[-5.69466780e+13 -1.59493335e+14 -4.57366239e+14 -1.33140651e+15\n -3.91437042e+15]\n[1.09724756e+17 3.07311468e+17 8.81252437e+17 2.56535164e+18\n 7.54220181e+18]\n[-2.11417460e+20 -5.92127178e+20 -1.69799559e+21 -4.94291487e+21\n -1.45323007e+22]\n[4.07358777e+23 1.14090957e+24 3.27169482e+24 9.52399938e+24\n 2.80008106e+25]\n[-7.84898151e+26 -2.19830248e+27 -6.30389564e+27 -1.83508247e+28\n -5.39519110e+28]\n[1.51234033e+30 4.23568523e+30 1.21463347e+31 3.53583357e+31\n 1.03954444e+32]\n"
     ]
    }
   ],
   "source": [
    "# w = np.random.random(X.shape[1]) * 2 - 1\n",
    "w = np.array([0.31551563, 0.68650093, 0.83462567, 0.01828828, 0.75014431]) * 2 - 1\n",
    "h = h_x(X, w)\n",
    "cost = J(h, y, X.shape[0])"
   ]
  },
  {
   "cell_type": "code",
   "execution_count": 180,
   "metadata": {},
   "outputs": [
    {
     "name": "stdout",
     "output_type": "stream",
     "text": [
      "[-0.36896874  0.37300186  0.66925134 -0.96342344  0.50028862]\n[  -3.73814271  -10.2183541   -31.12410635  -96.13715095 -284.36327761]\n[  7959.14656337  22294.79640983  63935.53920675 186120.23134681\n 547210.63984846]\n[-1.53389566e+07 -4.29605683e+07 -1.23194584e+08 -3.58623058e+08\n -1.05436132e+09]\n[2.95550819e+10 8.27763574e+10 2.37371118e+11 6.90994271e+11\n 2.03154147e+12]\n[-5.69466780e+13 -1.59493335e+14 -4.57366239e+14 -1.33140651e+15\n -3.91437042e+15]\n[1.09724756e+17 3.07311468e+17 8.81252437e+17 2.56535164e+18\n 7.54220181e+18]\n[-2.11417460e+20 -5.92127178e+20 -1.69799559e+21 -4.94291487e+21\n -1.45323007e+22]\n[4.07358777e+23 1.14090957e+24 3.27169482e+24 9.52399938e+24\n 2.80008106e+25]\n[-7.84898151e+26 -2.19830248e+27 -6.30389564e+27 -1.83508247e+28\n -5.39519110e+28]\n[1.51234033e+30 4.23568523e+30 1.21463347e+31 3.53583357e+31\n 1.03954444e+32]\n"
     ]
    }
   ],
   "source": [
    "a = 1\n",
    "d = learn(X, h, y)\n",
    "print(w)\n",
    "for i in range(10):\n",
    "    h = h_x(X, w)\n",
    "    d = a * learn(X, h, y)\n",
    "    cost = J(h, y, X.shape[0])\n",
    "    w -= d\n",
    "    print(w)"
   ]
  },
  {
   "cell_type": "code",
   "execution_count": 14,
   "metadata": {},
   "outputs": [
    {
     "data": {
      "text/plain": [
       "array([0., 0., 0.])"
      ]
     },
     "execution_count": 14,
     "metadata": {},
     "output_type": "execute_result"
    }
   ],
   "source": [
    ""
   ]
  },
  {
   "cell_type": "code",
   "execution_count": null,
   "metadata": {},
   "outputs": [],
   "source": [
    ""
   ]
  },
  {
   "cell_type": "code",
   "execution_count": null,
   "metadata": {},
   "outputs": [],
   "source": [
    ""
   ]
  }
 ],
 "metadata": {
  "kernelspec": {
   "display_name": "Python 2",
   "language": "python",
   "name": "python2"
  },
  "language_info": {
   "codemirror_mode": {
    "name": "ipython",
    "version": 2.0
   },
   "file_extension": ".py",
   "mimetype": "text/x-python",
   "name": "python",
   "nbconvert_exporter": "python",
   "pygments_lexer": "ipython2",
   "version": "2.7.6"
  }
 },
 "nbformat": 4,
 "nbformat_minor": 0
}